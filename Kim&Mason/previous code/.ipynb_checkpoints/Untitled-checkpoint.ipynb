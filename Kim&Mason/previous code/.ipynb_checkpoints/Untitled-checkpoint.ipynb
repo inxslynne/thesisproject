{
 "cells": [
  {
   "cell_type": "code",
   "execution_count": 1,
   "id": "e50992a2-e9a9-46a1-8c93-263333ce0d99",
   "metadata": {},
   "outputs": [
    {
     "name": "stdout",
     "output_type": "stream",
     "text": [
      "Hello, World!\n"
     ]
    }
   ],
   "source": [
    "# hello_world.jl\n",
    "\n",
    "# This is a simple Julia program that prints \"Hello, World!\" to the console.\n",
    "println(\"Hello, World!\")"
   ]
  },
  {
   "cell_type": "code",
   "execution_count": null,
   "id": "6d0c6aa4-c322-490b-9872-2e4bd51756f8",
   "metadata": {},
   "outputs": [],
   "source": []
  }
 ],
 "metadata": {
  "kernelspec": {
   "display_name": "Julia 1.10.5",
   "language": "julia",
   "name": "julia-1.10"
  },
  "language_info": {
   "file_extension": ".jl",
   "mimetype": "application/julia",
   "name": "julia",
   "version": "1.10.5"
  }
 },
 "nbformat": 4,
 "nbformat_minor": 5
}
